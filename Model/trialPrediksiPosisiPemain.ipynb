{
 "cells": [
  {
   "cell_type": "markdown",
   "metadata": {},
   "source": [
    "# 1. Importing Library"
   ]
  },
  {
   "cell_type": "code",
   "execution_count": 15,
   "metadata": {},
   "outputs": [],
   "source": [
    "import pandas as pd\n",
    "import numpy as np\n",
    "from sklearn import preprocessing\n",
    "from sklearn.linear_model import LinearRegression\n",
    "from sklearn.neighbors import KNeighborsRegressor\n",
    "from sklearn.ensemble import RandomForestRegressor\n",
    "from tensorflow import keras\n",
    "from tensorflow.keras.models import Sequential\n",
    "from tensorflow.keras.layers import Dense, Dropout, BatchNormalization\n",
    "from tensorflow.keras.callbacks import EarlyStopping"
   ]
  },
  {
   "cell_type": "markdown",
   "metadata": {},
   "source": [
    "# 2. Load The Data"
   ]
  },
  {
   "cell_type": "code",
   "execution_count": 16,
   "metadata": {},
   "outputs": [],
   "source": [
    "# Load the data\n",
    "df = pd.read_csv('Data\\FM 2023.csv')\n",
    "player_names = df['Name'].values\n",
    "X = df[['Corners', 'Crossing', 'Dribbling', 'Finishing', 'First Touch', 'Free Kick Taking', 'Heading', 'Long Shots',\n",
    "        'Long Throws', 'Passing', 'Penalty Taking', 'Tackling', 'Acceleration', 'Agility',\n",
    "        'Jumping Reach', 'Natural Fitness', 'Pace', 'Stamina', 'Strength']]\n",
    "y = df[['GK', 'DL', 'DC', 'DR', 'WBL', 'WBR', 'DM', 'ML', 'MC', 'AML', 'AMC', 'AMR', 'ST']]\n",
    "y.index = player_names"
   ]
  },
  {
   "cell_type": "markdown",
   "metadata": {},
   "source": [
    "# 3. Scale The Feature"
   ]
  },
  {
   "cell_type": "code",
   "execution_count": 17,
   "metadata": {},
   "outputs": [],
   "source": [
    "# Scale the features\n",
    "scaler = preprocessing.MinMaxScaler()\n",
    "X_normalized = pd.DataFrame(scaler.fit_transform(X), columns=X.columns)\n",
    "X_normalized.index = player_names"
   ]
  },
  {
   "cell_type": "markdown",
   "metadata": {},
   "source": [
    "# 4. Non Neural Network Regression"
   ]
  },
  {
   "cell_type": "code",
   "execution_count": 18,
   "metadata": {},
   "outputs": [
    {
     "data": {
      "text/html": [
       "<style>#sk-container-id-2 {color: black;background-color: white;}#sk-container-id-2 pre{padding: 0;}#sk-container-id-2 div.sk-toggleable {background-color: white;}#sk-container-id-2 label.sk-toggleable__label {cursor: pointer;display: block;width: 100%;margin-bottom: 0;padding: 0.3em;box-sizing: border-box;text-align: center;}#sk-container-id-2 label.sk-toggleable__label-arrow:before {content: \"▸\";float: left;margin-right: 0.25em;color: #696969;}#sk-container-id-2 label.sk-toggleable__label-arrow:hover:before {color: black;}#sk-container-id-2 div.sk-estimator:hover label.sk-toggleable__label-arrow:before {color: black;}#sk-container-id-2 div.sk-toggleable__content {max-height: 0;max-width: 0;overflow: hidden;text-align: left;background-color: #f0f8ff;}#sk-container-id-2 div.sk-toggleable__content pre {margin: 0.2em;color: black;border-radius: 0.25em;background-color: #f0f8ff;}#sk-container-id-2 input.sk-toggleable__control:checked~div.sk-toggleable__content {max-height: 200px;max-width: 100%;overflow: auto;}#sk-container-id-2 input.sk-toggleable__control:checked~label.sk-toggleable__label-arrow:before {content: \"▾\";}#sk-container-id-2 div.sk-estimator input.sk-toggleable__control:checked~label.sk-toggleable__label {background-color: #d4ebff;}#sk-container-id-2 div.sk-label input.sk-toggleable__control:checked~label.sk-toggleable__label {background-color: #d4ebff;}#sk-container-id-2 input.sk-hidden--visually {border: 0;clip: rect(1px 1px 1px 1px);clip: rect(1px, 1px, 1px, 1px);height: 1px;margin: -1px;overflow: hidden;padding: 0;position: absolute;width: 1px;}#sk-container-id-2 div.sk-estimator {font-family: monospace;background-color: #f0f8ff;border: 1px dotted black;border-radius: 0.25em;box-sizing: border-box;margin-bottom: 0.5em;}#sk-container-id-2 div.sk-estimator:hover {background-color: #d4ebff;}#sk-container-id-2 div.sk-parallel-item::after {content: \"\";width: 100%;border-bottom: 1px solid gray;flex-grow: 1;}#sk-container-id-2 div.sk-label:hover label.sk-toggleable__label {background-color: #d4ebff;}#sk-container-id-2 div.sk-serial::before {content: \"\";position: absolute;border-left: 1px solid gray;box-sizing: border-box;top: 0;bottom: 0;left: 50%;z-index: 0;}#sk-container-id-2 div.sk-serial {display: flex;flex-direction: column;align-items: center;background-color: white;padding-right: 0.2em;padding-left: 0.2em;position: relative;}#sk-container-id-2 div.sk-item {position: relative;z-index: 1;}#sk-container-id-2 div.sk-parallel {display: flex;align-items: stretch;justify-content: center;background-color: white;position: relative;}#sk-container-id-2 div.sk-item::before, #sk-container-id-2 div.sk-parallel-item::before {content: \"\";position: absolute;border-left: 1px solid gray;box-sizing: border-box;top: 0;bottom: 0;left: 50%;z-index: -1;}#sk-container-id-2 div.sk-parallel-item {display: flex;flex-direction: column;z-index: 1;position: relative;background-color: white;}#sk-container-id-2 div.sk-parallel-item:first-child::after {align-self: flex-end;width: 50%;}#sk-container-id-2 div.sk-parallel-item:last-child::after {align-self: flex-start;width: 50%;}#sk-container-id-2 div.sk-parallel-item:only-child::after {width: 0;}#sk-container-id-2 div.sk-dashed-wrapped {border: 1px dashed gray;margin: 0 0.4em 0.5em 0.4em;box-sizing: border-box;padding-bottom: 0.4em;background-color: white;}#sk-container-id-2 div.sk-label label {font-family: monospace;font-weight: bold;display: inline-block;line-height: 1.2em;}#sk-container-id-2 div.sk-label-container {text-align: center;}#sk-container-id-2 div.sk-container {/* jupyter's `normalize.less` sets `[hidden] { display: none; }` but bootstrap.min.css set `[hidden] { display: none !important; }` so we also need the `!important` here to be able to override the default hidden behavior on the sphinx rendered scikit-learn.org. See: https://github.com/scikit-learn/scikit-learn/issues/21755 */display: inline-block !important;position: relative;}#sk-container-id-2 div.sk-text-repr-fallback {display: none;}</style><div id=\"sk-container-id-2\" class=\"sk-top-container\"><div class=\"sk-text-repr-fallback\"><pre>RandomForestRegressor(max_features=None, random_state=42)</pre><b>In a Jupyter environment, please rerun this cell to show the HTML representation or trust the notebook. <br />On GitHub, the HTML representation is unable to render, please try loading this page with nbviewer.org.</b></div><div class=\"sk-container\" hidden><div class=\"sk-item\"><div class=\"sk-estimator sk-toggleable\"><input class=\"sk-toggleable__control sk-hidden--visually\" id=\"sk-estimator-id-2\" type=\"checkbox\" checked><label for=\"sk-estimator-id-2\" class=\"sk-toggleable__label sk-toggleable__label-arrow\">RandomForestRegressor</label><div class=\"sk-toggleable__content\"><pre>RandomForestRegressor(max_features=None, random_state=42)</pre></div></div></div></div></div>"
      ],
      "text/plain": [
       "RandomForestRegressor(max_features=None, random_state=42)"
      ]
     },
     "execution_count": 18,
     "metadata": {},
     "output_type": "execute_result"
    }
   ],
   "source": [
    "# Non-Neural Network Regression\n",
    "Knn = KNeighborsRegressor()\n",
    "LR = LinearRegression()\n",
    "RF = RandomForestRegressor(max_depth=None, max_features=None, random_state=42)\n",
    "\n",
    "Knn.fit(X_normalized, y)\n",
    "LR.fit(X_normalized, y)\n",
    "RF.fit(X_normalized, y)"
   ]
  },
  {
   "cell_type": "markdown",
   "metadata": {},
   "source": [
    "# 5. Neural Network Regression"
   ]
  },
  {
   "cell_type": "code",
   "execution_count": 19,
   "metadata": {},
   "outputs": [
    {
     "name": "stdout",
     "output_type": "stream",
     "text": [
      "Epoch 1/4000\n",
      "93/93 [==============================] - 3s 9ms/step - loss: 68.9302 - mse: 68.9302 - val_loss: 56.6063 - val_mse: 56.6063\n",
      "Epoch 2/4000\n",
      "93/93 [==============================] - 0s 4ms/step - loss: 42.8346 - mse: 42.8346 - val_loss: 36.6741 - val_mse: 36.6741\n",
      "Epoch 3/4000\n",
      "93/93 [==============================] - 0s 4ms/step - loss: 29.3967 - mse: 29.3967 - val_loss: 30.8769 - val_mse: 30.8769\n",
      "Epoch 4/4000\n",
      "93/93 [==============================] - 0s 4ms/step - loss: 25.9717 - mse: 25.9717 - val_loss: 27.0898 - val_mse: 27.0898\n",
      "Epoch 5/4000\n",
      "93/93 [==============================] - 0s 4ms/step - loss: 24.2393 - mse: 24.2393 - val_loss: 24.3572 - val_mse: 24.3572\n",
      "Epoch 6/4000\n",
      "93/93 [==============================] - 0s 4ms/step - loss: 23.2112 - mse: 23.2112 - val_loss: 24.0595 - val_mse: 24.0595\n",
      "Epoch 7/4000\n",
      "93/93 [==============================] - 0s 4ms/step - loss: 22.6678 - mse: 22.6678 - val_loss: 22.5520 - val_mse: 22.5520\n",
      "Epoch 8/4000\n",
      "93/93 [==============================] - 0s 4ms/step - loss: 22.2977 - mse: 22.2977 - val_loss: 22.7682 - val_mse: 22.7682\n",
      "Epoch 9/4000\n",
      "93/93 [==============================] - 0s 4ms/step - loss: 21.9803 - mse: 21.9803 - val_loss: 22.5655 - val_mse: 22.5655\n",
      "Epoch 10/4000\n",
      "93/93 [==============================] - 0s 4ms/step - loss: 21.6105 - mse: 21.6105 - val_loss: 22.0296 - val_mse: 22.0296\n",
      "Epoch 11/4000\n",
      "93/93 [==============================] - 3s 32ms/step - loss: 21.3895 - mse: 21.3895 - val_loss: 22.7269 - val_mse: 22.7269\n",
      "Epoch 12/4000\n",
      "93/93 [==============================] - 1s 6ms/step - loss: 21.2538 - mse: 21.2538 - val_loss: 21.6021 - val_mse: 21.6021\n",
      "Epoch 13/4000\n",
      "93/93 [==============================] - 1s 6ms/step - loss: 21.1242 - mse: 21.1242 - val_loss: 21.2810 - val_mse: 21.2810\n",
      "Epoch 14/4000\n",
      "93/93 [==============================] - 1s 6ms/step - loss: 21.0214 - mse: 21.0214 - val_loss: 22.0812 - val_mse: 22.0812\n",
      "Epoch 15/4000\n",
      "93/93 [==============================] - 1s 7ms/step - loss: 20.8538 - mse: 20.8538 - val_loss: 21.7575 - val_mse: 21.7575\n",
      "Epoch 16/4000\n",
      "93/93 [==============================] - 0s 5ms/step - loss: 20.9226 - mse: 20.9226 - val_loss: 21.7323 - val_mse: 21.7323\n",
      "Epoch 17/4000\n",
      "93/93 [==============================] - 0s 5ms/step - loss: 20.6343 - mse: 20.6343 - val_loss: 21.5897 - val_mse: 21.5897\n",
      "Epoch 18/4000\n",
      "93/93 [==============================] - 1s 6ms/step - loss: 20.7001 - mse: 20.7001 - val_loss: 21.5755 - val_mse: 21.5755\n",
      "Epoch 19/4000\n",
      "93/93 [==============================] - 0s 5ms/step - loss: 20.4645 - mse: 20.4645 - val_loss: 21.8057 - val_mse: 21.8057\n",
      "Epoch 20/4000\n",
      "93/93 [==============================] - 0s 5ms/step - loss: 20.4894 - mse: 20.4894 - val_loss: 20.7944 - val_mse: 20.7944\n",
      "Epoch 21/4000\n",
      "93/93 [==============================] - 1s 6ms/step - loss: 20.3643 - mse: 20.3643 - val_loss: 21.0579 - val_mse: 21.0579\n",
      "Epoch 22/4000\n",
      "93/93 [==============================] - 0s 5ms/step - loss: 20.3172 - mse: 20.3172 - val_loss: 21.3405 - val_mse: 21.3405\n",
      "Epoch 23/4000\n",
      "93/93 [==============================] - 0s 5ms/step - loss: 20.1585 - mse: 20.1585 - val_loss: 20.8462 - val_mse: 20.8462\n",
      "Epoch 24/4000\n",
      "93/93 [==============================] - 1s 6ms/step - loss: 20.1618 - mse: 20.1618 - val_loss: 20.8736 - val_mse: 20.8736\n",
      "Epoch 25/4000\n",
      "93/93 [==============================] - 1s 6ms/step - loss: 20.2434 - mse: 20.2434 - val_loss: 20.8458 - val_mse: 20.8458\n",
      "Epoch 26/4000\n",
      "93/93 [==============================] - 0s 4ms/step - loss: 20.1169 - mse: 20.1169 - val_loss: 21.0419 - val_mse: 21.0419\n",
      "Epoch 27/4000\n",
      "93/93 [==============================] - 0s 4ms/step - loss: 19.9934 - mse: 19.9934 - val_loss: 20.6608 - val_mse: 20.6608\n",
      "Epoch 28/4000\n",
      "93/93 [==============================] - 0s 4ms/step - loss: 19.8665 - mse: 19.8665 - val_loss: 20.8587 - val_mse: 20.8587\n",
      "Epoch 29/4000\n",
      "93/93 [==============================] - 0s 4ms/step - loss: 20.1551 - mse: 20.1551 - val_loss: 21.1133 - val_mse: 21.1133\n",
      "Epoch 30/4000\n",
      "93/93 [==============================] - 0s 4ms/step - loss: 20.1028 - mse: 20.1028 - val_loss: 21.2922 - val_mse: 21.2922\n",
      "Epoch 31/4000\n",
      "93/93 [==============================] - 0s 4ms/step - loss: 20.0190 - mse: 20.0190 - val_loss: 20.6993 - val_mse: 20.6993\n",
      "Epoch 32/4000\n",
      "93/93 [==============================] - 0s 4ms/step - loss: 19.9885 - mse: 19.9885 - val_loss: 20.6441 - val_mse: 20.6441\n",
      "Epoch 33/4000\n",
      "93/93 [==============================] - 0s 4ms/step - loss: 19.8873 - mse: 19.8873 - val_loss: 20.5018 - val_mse: 20.5018\n",
      "Epoch 34/4000\n",
      "93/93 [==============================] - 0s 4ms/step - loss: 19.7132 - mse: 19.7132 - val_loss: 21.1214 - val_mse: 21.1214\n",
      "Epoch 35/4000\n",
      "93/93 [==============================] - 0s 4ms/step - loss: 19.8878 - mse: 19.8878 - val_loss: 20.8879 - val_mse: 20.8879\n",
      "Epoch 36/4000\n",
      "93/93 [==============================] - 0s 4ms/step - loss: 19.7479 - mse: 19.7479 - val_loss: 20.7251 - val_mse: 20.7251\n",
      "Epoch 37/4000\n",
      "93/93 [==============================] - 0s 4ms/step - loss: 19.7911 - mse: 19.7911 - val_loss: 21.1459 - val_mse: 21.1459\n",
      "Epoch 38/4000\n",
      "93/93 [==============================] - 0s 4ms/step - loss: 19.8707 - mse: 19.8707 - val_loss: 20.5569 - val_mse: 20.5569\n",
      "Epoch 39/4000\n",
      "93/93 [==============================] - 0s 4ms/step - loss: 19.9197 - mse: 19.9197 - val_loss: 21.5032 - val_mse: 21.5032\n",
      "Epoch 40/4000\n",
      "93/93 [==============================] - 0s 4ms/step - loss: 19.8282 - mse: 19.8282 - val_loss: 21.1941 - val_mse: 21.1941\n",
      "Epoch 41/4000\n",
      "93/93 [==============================] - 0s 4ms/step - loss: 19.7049 - mse: 19.7049 - val_loss: 20.6248 - val_mse: 20.6248\n",
      "Epoch 42/4000\n",
      "93/93 [==============================] - 0s 5ms/step - loss: 19.6125 - mse: 19.6125 - val_loss: 20.8113 - val_mse: 20.8113\n",
      "Epoch 43/4000\n",
      "93/93 [==============================] - 0s 4ms/step - loss: 19.7057 - mse: 19.7057 - val_loss: 20.5645 - val_mse: 20.5645\n",
      "Epoch 44/4000\n",
      "93/93 [==============================] - 0s 4ms/step - loss: 19.5891 - mse: 19.5891 - val_loss: 20.5004 - val_mse: 20.5004\n",
      "Epoch 45/4000\n",
      "93/93 [==============================] - 0s 4ms/step - loss: 19.8112 - mse: 19.8112 - val_loss: 20.9936 - val_mse: 20.9936\n",
      "Epoch 46/4000\n",
      "93/93 [==============================] - 0s 4ms/step - loss: 19.7133 - mse: 19.7133 - val_loss: 21.1155 - val_mse: 21.1155\n",
      "Epoch 47/4000\n",
      "93/93 [==============================] - 0s 4ms/step - loss: 19.5582 - mse: 19.5582 - val_loss: 21.0860 - val_mse: 21.0860\n",
      "Epoch 48/4000\n",
      "93/93 [==============================] - 0s 4ms/step - loss: 19.5228 - mse: 19.5228 - val_loss: 20.7286 - val_mse: 20.7286\n",
      "Epoch 49/4000\n",
      "93/93 [==============================] - 0s 4ms/step - loss: 19.5965 - mse: 19.5965 - val_loss: 21.5317 - val_mse: 21.5317\n",
      "Epoch 50/4000\n",
      "93/93 [==============================] - 0s 4ms/step - loss: 19.4908 - mse: 19.4908 - val_loss: 21.1078 - val_mse: 21.1078\n",
      "Epoch 51/4000\n",
      "93/93 [==============================] - 0s 4ms/step - loss: 19.4648 - mse: 19.4648 - val_loss: 20.7273 - val_mse: 20.7273\n",
      "Epoch 52/4000\n",
      "93/93 [==============================] - 0s 4ms/step - loss: 19.4973 - mse: 19.4973 - val_loss: 21.4820 - val_mse: 21.4820\n",
      "Epoch 53/4000\n",
      "93/93 [==============================] - 0s 4ms/step - loss: 19.5515 - mse: 19.5515 - val_loss: 21.1326 - val_mse: 21.1326\n",
      "Epoch 54/4000\n",
      "93/93 [==============================] - 0s 4ms/step - loss: 19.5264 - mse: 19.5264 - val_loss: 20.5710 - val_mse: 20.5710\n",
      "Epoch 55/4000\n",
      "93/93 [==============================] - 0s 4ms/step - loss: 19.4228 - mse: 19.4228 - val_loss: 20.3883 - val_mse: 20.3883\n",
      "Epoch 56/4000\n",
      "93/93 [==============================] - 0s 4ms/step - loss: 19.3890 - mse: 19.3890 - val_loss: 20.8870 - val_mse: 20.8870\n",
      "Epoch 57/4000\n",
      "93/93 [==============================] - 0s 4ms/step - loss: 19.4752 - mse: 19.4752 - val_loss: 21.0778 - val_mse: 21.0778\n",
      "Epoch 58/4000\n",
      "93/93 [==============================] - 0s 4ms/step - loss: 19.3704 - mse: 19.3704 - val_loss: 20.6094 - val_mse: 20.6094\n",
      "Epoch 59/4000\n",
      "93/93 [==============================] - 0s 4ms/step - loss: 19.4640 - mse: 19.4640 - val_loss: 20.1607 - val_mse: 20.1607\n",
      "Epoch 60/4000\n",
      "93/93 [==============================] - 0s 4ms/step - loss: 19.4931 - mse: 19.4931 - val_loss: 20.7845 - val_mse: 20.7845\n",
      "Epoch 61/4000\n",
      "93/93 [==============================] - 0s 4ms/step - loss: 19.2732 - mse: 19.2732 - val_loss: 20.7704 - val_mse: 20.7704\n",
      "Epoch 62/4000\n",
      "93/93 [==============================] - 0s 4ms/step - loss: 19.2803 - mse: 19.2803 - val_loss: 21.0634 - val_mse: 21.0634\n",
      "Epoch 63/4000\n",
      "93/93 [==============================] - 0s 4ms/step - loss: 19.4294 - mse: 19.4294 - val_loss: 20.2607 - val_mse: 20.2607\n",
      "Epoch 64/4000\n",
      "93/93 [==============================] - 0s 4ms/step - loss: 19.2052 - mse: 19.2052 - val_loss: 21.0590 - val_mse: 21.0590\n",
      "Epoch 65/4000\n",
      "93/93 [==============================] - 0s 4ms/step - loss: 19.3798 - mse: 19.3798 - val_loss: 20.6178 - val_mse: 20.6178\n",
      "Epoch 66/4000\n",
      "93/93 [==============================] - 0s 5ms/step - loss: 19.3487 - mse: 19.3487 - val_loss: 20.0531 - val_mse: 20.0531\n",
      "Epoch 67/4000\n",
      "93/93 [==============================] - 1s 6ms/step - loss: 19.4558 - mse: 19.4558 - val_loss: 20.6869 - val_mse: 20.6869\n",
      "Epoch 68/4000\n",
      "93/93 [==============================] - 1s 6ms/step - loss: 19.3176 - mse: 19.3176 - val_loss: 20.2929 - val_mse: 20.2929\n",
      "Epoch 69/4000\n",
      "93/93 [==============================] - 0s 5ms/step - loss: 19.4077 - mse: 19.4077 - val_loss: 20.8424 - val_mse: 20.8424\n",
      "Epoch 70/4000\n",
      "93/93 [==============================] - 0s 5ms/step - loss: 19.1607 - mse: 19.1607 - val_loss: 20.6129 - val_mse: 20.6129\n",
      "Epoch 71/4000\n",
      "93/93 [==============================] - 0s 5ms/step - loss: 19.2392 - mse: 19.2392 - val_loss: 20.4098 - val_mse: 20.4098\n",
      "Epoch 72/4000\n",
      "93/93 [==============================] - 0s 4ms/step - loss: 19.1526 - mse: 19.1526 - val_loss: 21.4106 - val_mse: 21.4106\n",
      "Epoch 73/4000\n",
      "93/93 [==============================] - 0s 4ms/step - loss: 19.0528 - mse: 19.0528 - val_loss: 20.7428 - val_mse: 20.7428\n",
      "Epoch 74/4000\n",
      "93/93 [==============================] - 0s 5ms/step - loss: 19.2523 - mse: 19.2523 - val_loss: 21.5817 - val_mse: 21.5817\n",
      "Epoch 75/4000\n",
      "93/93 [==============================] - 0s 5ms/step - loss: 19.2003 - mse: 19.2003 - val_loss: 20.3887 - val_mse: 20.3887\n",
      "Epoch 76/4000\n",
      "93/93 [==============================] - 0s 4ms/step - loss: 19.2483 - mse: 19.2483 - val_loss: 20.6736 - val_mse: 20.6736\n",
      "Epoch 77/4000\n",
      "93/93 [==============================] - 0s 4ms/step - loss: 19.2655 - mse: 19.2655 - val_loss: 20.2327 - val_mse: 20.2327\n",
      "Epoch 78/4000\n",
      "93/93 [==============================] - 0s 4ms/step - loss: 19.1513 - mse: 19.1513 - val_loss: 20.3800 - val_mse: 20.3800\n",
      "Epoch 79/4000\n",
      "93/93 [==============================] - 0s 4ms/step - loss: 19.1737 - mse: 19.1737 - val_loss: 20.5423 - val_mse: 20.5423\n",
      "Epoch 80/4000\n",
      "93/93 [==============================] - 0s 4ms/step - loss: 19.0618 - mse: 19.0618 - val_loss: 20.6918 - val_mse: 20.6918\n",
      "Epoch 81/4000\n",
      "93/93 [==============================] - 0s 4ms/step - loss: 19.1799 - mse: 19.1799 - val_loss: 20.2339 - val_mse: 20.2339\n",
      "Epoch 82/4000\n",
      "93/93 [==============================] - 1s 6ms/step - loss: 19.2952 - mse: 19.2952 - val_loss: 20.0621 - val_mse: 20.0621\n",
      "Epoch 83/4000\n",
      "93/93 [==============================] - 1s 5ms/step - loss: 19.1308 - mse: 19.1308 - val_loss: 20.4182 - val_mse: 20.4182\n",
      "Epoch 83: early stopping\n"
     ]
    },
    {
     "data": {
      "text/plain": [
       "<keras.src.callbacks.History at 0x24840ada800>"
      ]
     },
     "execution_count": 19,
     "metadata": {},
     "output_type": "execute_result"
    }
   ],
   "source": [
    "# Neural Network Regression\n",
    "NNetModel = Sequential()\n",
    "NNetModel.add(Dense(16, activation='relu', input_dim=len(X_normalized.columns)))\n",
    "NNetModel.add(BatchNormalization())\n",
    "NNetModel.add(Dense(32, activation='relu'))\n",
    "NNetModel.add(Dropout(0.2))\n",
    "NNetModel.add(Dense(len(y.columns), activation='linear'))\n",
    "\n",
    "NNetModel.compile(loss='mean_squared_error', optimizer='adam', metrics=['mse'])\n",
    "es = EarlyStopping(monitor='loss', mode='min', verbose=1, patience=10)\n",
    "NNetModel.fit(X_normalized.values, y.values, batch_size=64, epochs=4000, verbose=1, validation_split=0.3, callbacks=[es])"
   ]
  },
  {
   "cell_type": "markdown",
   "metadata": {},
   "source": [
    "# 6. Function Prediction Player"
   ]
  },
  {
   "cell_type": "code",
   "execution_count": 20,
   "metadata": {},
   "outputs": [
    {
     "name": "stdout",
     "output_type": "stream",
     "text": [
      "1/1 [==============================] - 0s 283ms/step\n",
      "Predicted positions for Erling Haaland:\n",
      "   Position  Real  Predicted  Difference\n",
      "0       GK     1        1.0         0.0\n",
      "1       DL     1        1.0         0.0\n",
      "2       DC     1        1.0         0.0\n",
      "265/265 [==============================] - 1s 2ms/step\n",
      "\n",
      "MSE: 18.06237823172403\n",
      "Predicted positions for Erling Haaland:\n",
      "   Position  Real  Predicted  Difference\n",
      "0       GK     1        1.0         0.0\n",
      "1       DL     1        1.0         0.0\n",
      "2       DC     1        1.0         0.0\n"
     ]
    },
    {
     "name": "stderr",
     "output_type": "stream",
     "text": [
      "c:\\Users\\ASUS\\AppData\\Local\\Programs\\Python\\Python310\\lib\\site-packages\\sklearn\\base.py:439: UserWarning: X does not have valid feature names, but RandomForestRegressor was fitted with feature names\n",
      "  warnings.warn(\n",
      "c:\\Users\\ASUS\\AppData\\Local\\Programs\\Python\\Python310\\lib\\site-packages\\sklearn\\base.py:439: UserWarning: X does not have valid feature names, but RandomForestRegressor was fitted with feature names\n",
      "  warnings.warn(\n"
     ]
    },
    {
     "name": "stdout",
     "output_type": "stream",
     "text": [
      "\n",
      "MSE: 2.5621692271287633\n",
      "Predicted positions for Erling Haaland:\n",
      "   Position  Real  Predicted  Difference\n",
      "0       GK     1        1.0         0.0\n",
      "1       DL     1        1.0         0.0\n",
      "2       DC     1        1.0         0.0\n",
      "\n",
      "MSE: 22.660553925243647\n",
      "Predicted positions for Erling Haaland:\n",
      "   Position  Real  Predicted  Difference\n",
      "0       GK     1        1.0         0.0\n",
      "1       DL     1        1.0         0.0\n",
      "2       DC     1        1.0         0.0\n"
     ]
    },
    {
     "name": "stderr",
     "output_type": "stream",
     "text": [
      "c:\\Users\\ASUS\\AppData\\Local\\Programs\\Python\\Python310\\lib\\site-packages\\sklearn\\base.py:439: UserWarning: X does not have valid feature names, but LinearRegression was fitted with feature names\n",
      "  warnings.warn(\n",
      "c:\\Users\\ASUS\\AppData\\Local\\Programs\\Python\\Python310\\lib\\site-packages\\sklearn\\base.py:439: UserWarning: X does not have valid feature names, but LinearRegression was fitted with feature names\n",
      "  warnings.warn(\n",
      "c:\\Users\\ASUS\\AppData\\Local\\Programs\\Python\\Python310\\lib\\site-packages\\sklearn\\base.py:439: UserWarning: X does not have valid feature names, but KNeighborsRegressor was fitted with feature names\n",
      "  warnings.warn(\n",
      "c:\\Users\\ASUS\\AppData\\Local\\Programs\\Python\\Python310\\lib\\site-packages\\sklearn\\base.py:439: UserWarning: X does not have valid feature names, but KNeighborsRegressor was fitted with feature names\n",
      "  warnings.warn(\n"
     ]
    },
    {
     "name": "stdout",
     "output_type": "stream",
     "text": [
      "\n",
      "MSE: 13.73553496668972\n",
      "1/1 [==============================] - 0s 34ms/step\n",
      "Predicted positions for Alisson:\n",
      "   Position  Real  Predicted  Difference\n",
      "0       GK    20        1.0        19.0\n",
      "1       DL     1        1.0         0.0\n",
      "2       DC     1        1.0         0.0\n",
      "265/265 [==============================] - 1s 2ms/step\n",
      "\n",
      "MSE: 18.06237823172403\n",
      "Predicted positions for Alisson:\n",
      "   Position  Real  Predicted  Difference\n",
      "0       GK    20        1.0        19.0\n",
      "1       DL     1        1.0         0.0\n",
      "2       DC     1        1.0         0.0\n"
     ]
    },
    {
     "name": "stderr",
     "output_type": "stream",
     "text": [
      "c:\\Users\\ASUS\\AppData\\Local\\Programs\\Python\\Python310\\lib\\site-packages\\sklearn\\base.py:439: UserWarning: X does not have valid feature names, but RandomForestRegressor was fitted with feature names\n",
      "  warnings.warn(\n",
      "c:\\Users\\ASUS\\AppData\\Local\\Programs\\Python\\Python310\\lib\\site-packages\\sklearn\\base.py:439: UserWarning: X does not have valid feature names, but RandomForestRegressor was fitted with feature names\n",
      "  warnings.warn(\n"
     ]
    },
    {
     "name": "stdout",
     "output_type": "stream",
     "text": [
      "\n",
      "MSE: 2.5621692271287633\n",
      "Predicted positions for Alisson:\n",
      "   Position  Real  Predicted  Difference\n",
      "0       GK    20        1.0        19.0\n",
      "1       DL     1        1.0         0.0\n",
      "2       DC     1        1.0         0.0\n",
      "\n",
      "MSE: 22.660553925243647\n",
      "Predicted positions for Alisson:\n",
      "   Position  Real  Predicted  Difference\n",
      "0       GK    20        1.0        19.0\n",
      "1       DL     1        1.0         0.0\n",
      "2       DC     1        1.0         0.0\n"
     ]
    },
    {
     "name": "stderr",
     "output_type": "stream",
     "text": [
      "c:\\Users\\ASUS\\AppData\\Local\\Programs\\Python\\Python310\\lib\\site-packages\\sklearn\\base.py:439: UserWarning: X does not have valid feature names, but LinearRegression was fitted with feature names\n",
      "  warnings.warn(\n",
      "c:\\Users\\ASUS\\AppData\\Local\\Programs\\Python\\Python310\\lib\\site-packages\\sklearn\\base.py:439: UserWarning: X does not have valid feature names, but LinearRegression was fitted with feature names\n",
      "  warnings.warn(\n",
      "c:\\Users\\ASUS\\AppData\\Local\\Programs\\Python\\Python310\\lib\\site-packages\\sklearn\\base.py:439: UserWarning: X does not have valid feature names, but KNeighborsRegressor was fitted with feature names\n",
      "  warnings.warn(\n",
      "c:\\Users\\ASUS\\AppData\\Local\\Programs\\Python\\Python310\\lib\\site-packages\\sklearn\\base.py:439: UserWarning: X does not have valid feature names, but KNeighborsRegressor was fitted with feature names\n",
      "  warnings.warn(\n"
     ]
    },
    {
     "name": "stdout",
     "output_type": "stream",
     "text": [
      "\n",
      "MSE: 13.73553496668972\n"
     ]
    }
   ],
   "source": [
    "predict_and_show('Erling Haaland', NNetModel)\n",
    "predict_and_show('Erling Haaland', RF)\n",
    "predict_and_show('Erling Haaland', LR)\n",
    "predict_and_show('Erling Haaland', Knn)\n",
    "\n",
    "predict_and_show('Alisson', NNetModel)\n",
    "predict_and_show('Alisson', RF)\n",
    "predict_and_show('Alisson', LR)\n",
    "predict_and_show('Alisson', Knn)"
   ]
  }
 ],
 "metadata": {
  "kernelspec": {
   "display_name": "Python 3",
   "language": "python",
   "name": "python3"
  },
  "language_info": {
   "codemirror_mode": {
    "name": "ipython",
    "version": 3
   },
   "file_extension": ".py",
   "mimetype": "text/x-python",
   "name": "python",
   "nbconvert_exporter": "python",
   "pygments_lexer": "ipython3",
   "version": "3.10.10"
  },
  "orig_nbformat": 4
 },
 "nbformat": 4,
 "nbformat_minor": 2
}
